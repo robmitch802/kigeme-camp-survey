{
 "cells": [
  {
   "cell_type": "markdown",
   "id": "981027d3",
   "metadata": {},
   "source": [
    "### Kigeme Camp Social Resilience Survey  \n",
    "##### June 2022"
   ]
  },
  {
   "cell_type": "code",
   "execution_count": 1,
   "id": "5bce4319",
   "metadata": {},
   "outputs": [],
   "source": [
    "import matplotlib.pyplot as plt\n",
    "import pandas as pd"
   ]
  },
  {
   "cell_type": "code",
   "execution_count": 3,
   "id": "f48868bf",
   "metadata": {},
   "outputs": [],
   "source": []
  },
  {
   "cell_type": "code",
   "execution_count": 29,
   "id": "6c21e755",
   "metadata": {},
   "outputs": [],
   "source": [
    "df = pd.read_csv('KigemeSurvey1.csv')"
   ]
  },
  {
   "cell_type": "code",
   "execution_count": 30,
   "id": "b1385b59",
   "metadata": {},
   "outputs": [],
   "source": [
    "kg_survey = df.iloc[:, [0, 2, 8, 10, 11, 13, 26, 30, 31, 32, 39, 41, 59, 70, 71]]"
   ]
  },
  {
   "cell_type": "code",
   "execution_count": 31,
   "id": "227f3bbe",
   "metadata": {},
   "outputs": [
    {
     "data": {
      "text/html": [
       "<div>\n",
       "<style scoped>\n",
       "    .dataframe tbody tr th:only-of-type {\n",
       "        vertical-align: middle;\n",
       "    }\n",
       "\n",
       "    .dataframe tbody tr th {\n",
       "        vertical-align: top;\n",
       "    }\n",
       "\n",
       "    .dataframe thead th {\n",
       "        text-align: right;\n",
       "    }\n",
       "</style>\n",
       "<table border=\"1\" class=\"dataframe\">\n",
       "  <thead>\n",
       "    <tr style=\"text-align: right;\">\n",
       "      <th></th>\n",
       "      <th>ObjectID</th>\n",
       "      <th>CreationDate</th>\n",
       "      <th>Size of household</th>\n",
       "      <th>Number of children</th>\n",
       "      <th>Are all the children in school?</th>\n",
       "      <th>Type of disaster experienced</th>\n",
       "      <th>Ownership</th>\n",
       "      <th>What country are you originally from?</th>\n",
       "      <th>Disability</th>\n",
       "      <th>Type of disability</th>\n",
       "      <th>Technology</th>\n",
       "      <th>Access to information</th>\n",
       "      <th>Which district?</th>\n",
       "      <th>x</th>\n",
       "      <th>y</th>\n",
       "    </tr>\n",
       "  </thead>\n",
       "  <tbody>\n",
       "    <tr>\n",
       "      <th>0</th>\n",
       "      <td>9</td>\n",
       "      <td>6/16/2022 8:01:04 AM</td>\n",
       "      <td>10</td>\n",
       "      <td>5</td>\n",
       "      <td>Yes</td>\n",
       "      <td>Flood,other</td>\n",
       "      <td>House</td>\n",
       "      <td>DRC</td>\n",
       "      <td>Yes</td>\n",
       "      <td>Physical</td>\n",
       "      <td>Cell_phone</td>\n",
       "      <td>Community_leaders</td>\n",
       "      <td>North Kivu</td>\n",
       "      <td>29.523453</td>\n",
       "      <td>-2.484495</td>\n",
       "    </tr>\n",
       "    <tr>\n",
       "      <th>1</th>\n",
       "      <td>10</td>\n",
       "      <td>6/16/2022 11:06:31 AM</td>\n",
       "      <td>5</td>\n",
       "      <td>3</td>\n",
       "      <td>Yes</td>\n",
       "      <td>other</td>\n",
       "      <td>NaN</td>\n",
       "      <td>DRC</td>\n",
       "      <td>No</td>\n",
       "      <td>NaN</td>\n",
       "      <td>Cell_phone,Internet_access</td>\n",
       "      <td>Camp_management</td>\n",
       "      <td>North Kivu</td>\n",
       "      <td>29.523733</td>\n",
       "      <td>-2.484887</td>\n",
       "    </tr>\n",
       "    <tr>\n",
       "      <th>2</th>\n",
       "      <td>11</td>\n",
       "      <td>6/16/2022 11:06:32 AM</td>\n",
       "      <td>8</td>\n",
       "      <td>4</td>\n",
       "      <td>Yes</td>\n",
       "      <td>NaN</td>\n",
       "      <td>NaN</td>\n",
       "      <td>DRC</td>\n",
       "      <td>Yes</td>\n",
       "      <td>Physical</td>\n",
       "      <td>Cell_phone,Internet_access,other</td>\n",
       "      <td>Media_sources,Word_of_mouth,Host_community,Cam...</td>\n",
       "      <td>Kichanga</td>\n",
       "      <td>29.523572</td>\n",
       "      <td>-2.484825</td>\n",
       "    </tr>\n",
       "    <tr>\n",
       "      <th>3</th>\n",
       "      <td>12</td>\n",
       "      <td>6/16/2022 11:06:33 AM</td>\n",
       "      <td>8</td>\n",
       "      <td>3</td>\n",
       "      <td>Yes</td>\n",
       "      <td>NaN</td>\n",
       "      <td>Livestock</td>\n",
       "      <td>DRC</td>\n",
       "      <td>Yes</td>\n",
       "      <td>Physical</td>\n",
       "      <td>Cell_phone</td>\n",
       "      <td>NaN</td>\n",
       "      <td>Masisi</td>\n",
       "      <td>29.523408</td>\n",
       "      <td>-2.485137</td>\n",
       "    </tr>\n",
       "    <tr>\n",
       "      <th>4</th>\n",
       "      <td>13</td>\n",
       "      <td>6/16/2022 11:06:35 AM</td>\n",
       "      <td>5</td>\n",
       "      <td>4</td>\n",
       "      <td>Yes</td>\n",
       "      <td>other</td>\n",
       "      <td>Business</td>\n",
       "      <td>DRC</td>\n",
       "      <td>No</td>\n",
       "      <td>NaN</td>\n",
       "      <td>Cell_phone</td>\n",
       "      <td>Camp_management</td>\n",
       "      <td>Ngungu</td>\n",
       "      <td>29.523427</td>\n",
       "      <td>-2.485278</td>\n",
       "    </tr>\n",
       "  </tbody>\n",
       "</table>\n",
       "</div>"
      ],
      "text/plain": [
       "   ObjectID           CreationDate  Size of household  Number of children  \\\n",
       "0         9   6/16/2022 8:01:04 AM                 10                   5   \n",
       "1        10  6/16/2022 11:06:31 AM                  5                   3   \n",
       "2        11  6/16/2022 11:06:32 AM                  8                   4   \n",
       "3        12  6/16/2022 11:06:33 AM                  8                   3   \n",
       "4        13  6/16/2022 11:06:35 AM                  5                   4   \n",
       "\n",
       "  Are all the children in school? Type of disaster experienced  Ownership  \\\n",
       "0                             Yes                  Flood,other      House   \n",
       "1                             Yes                        other        NaN   \n",
       "2                             Yes                          NaN        NaN   \n",
       "3                             Yes                          NaN  Livestock   \n",
       "4                             Yes                        other   Business   \n",
       "\n",
       "  What country are you originally from? Disability Type of disability  \\\n",
       "0                                   DRC        Yes           Physical   \n",
       "1                                   DRC         No                NaN   \n",
       "2                                   DRC        Yes           Physical   \n",
       "3                                   DRC        Yes           Physical   \n",
       "4                                   DRC         No                NaN   \n",
       "\n",
       "                         Technology  \\\n",
       "0                        Cell_phone   \n",
       "1        Cell_phone,Internet_access   \n",
       "2  Cell_phone,Internet_access,other   \n",
       "3                        Cell_phone   \n",
       "4                        Cell_phone   \n",
       "\n",
       "                               Access to information Which district?  \\\n",
       "0                                  Community_leaders      North Kivu   \n",
       "1                                    Camp_management      North Kivu   \n",
       "2  Media_sources,Word_of_mouth,Host_community,Cam...        Kichanga   \n",
       "3                                                NaN          Masisi   \n",
       "4                                    Camp_management          Ngungu   \n",
       "\n",
       "           x         y  \n",
       "0  29.523453 -2.484495  \n",
       "1  29.523733 -2.484887  \n",
       "2  29.523572 -2.484825  \n",
       "3  29.523408 -2.485137  \n",
       "4  29.523427 -2.485278  "
      ]
     },
     "execution_count": 31,
     "metadata": {},
     "output_type": "execute_result"
    }
   ],
   "source": [
    "kg_survey.head()"
   ]
  },
  {
   "cell_type": "code",
   "execution_count": 32,
   "id": "c2b14d2b",
   "metadata": {},
   "outputs": [
    {
     "name": "stdout",
     "output_type": "stream",
     "text": [
      "<class 'pandas.core.frame.DataFrame'>\n",
      "RangeIndex: 25 entries, 0 to 24\n",
      "Data columns (total 15 columns):\n",
      " #   Column                                 Non-Null Count  Dtype  \n",
      "---  ------                                 --------------  -----  \n",
      " 0   ObjectID                               25 non-null     int64  \n",
      " 1   CreationDate                           25 non-null     object \n",
      " 2   Size of household                      25 non-null     int64  \n",
      " 3   Number of children                     25 non-null     int64  \n",
      " 4   Are all the children in school?        25 non-null     object \n",
      " 5   Type of disaster experienced           10 non-null     object \n",
      " 6   Ownership                              8 non-null      object \n",
      " 7   What country are you originally from?  25 non-null     object \n",
      " 8   Disability                             25 non-null     object \n",
      " 9   Type of disability                     13 non-null     object \n",
      " 10  Technology                             23 non-null     object \n",
      " 11  Access to information                  20 non-null     object \n",
      " 12  Which district?                        25 non-null     object \n",
      " 13  x                                      25 non-null     float64\n",
      " 14  y                                      25 non-null     float64\n",
      "dtypes: float64(2), int64(3), object(10)\n",
      "memory usage: 3.1+ KB\n"
     ]
    }
   ],
   "source": [
    "kg_survey.info()"
   ]
  },
  {
   "cell_type": "code",
   "execution_count": 33,
   "id": "b1053af2",
   "metadata": {},
   "outputs": [
    {
     "data": {
      "text/plain": [
       "Size of household\n",
       "4     5\n",
       "8     5\n",
       "5     4\n",
       "6     3\n",
       "10    3\n",
       "13    2\n",
       "2     1\n",
       "3     1\n",
       "12    1\n",
       "dtype: int64"
      ]
     },
     "execution_count": 33,
     "metadata": {},
     "output_type": "execute_result"
    }
   ],
   "source": [
    "kg_survey.value_counts(\"Size of household\")"
   ]
  },
  {
   "cell_type": "code",
   "execution_count": 34,
   "id": "c6f71398",
   "metadata": {},
   "outputs": [
    {
     "data": {
      "text/plain": [
       "Number of children\n",
       "2    7\n",
       "4    5\n",
       "1    4\n",
       "3    3\n",
       "5    2\n",
       "6    2\n",
       "7    2\n",
       "dtype: int64"
      ]
     },
     "execution_count": 34,
     "metadata": {},
     "output_type": "execute_result"
    }
   ],
   "source": [
    "kg_survey.value_counts(\"Number of children\")"
   ]
  },
  {
   "cell_type": "code",
   "execution_count": 35,
   "id": "0c934d10",
   "metadata": {},
   "outputs": [
    {
     "data": {
      "text/plain": [
       "<AxesSubplot:title={'center':'Household size vs. No. of Children'}, xlabel='Size of household', ylabel='Number of children'>"
      ]
     },
     "execution_count": 35,
     "metadata": {},
     "output_type": "execute_result"
    },
    {
     "data": {
      "image/png": "[encoded data removed]",
      "text/plain": [
       "<Figure size 432x288 with 1 Axes>"
      ]
     },
     "metadata": {
      "needs_background": "light"
     },
     "output_type": "display_data"
    }
   ],
   "source": [
    "kg_survey.plot(x ='Size of household', y='Number of children', kind = 'scatter', title='Household size vs. No. of Children')\t"
   ]
  },
  {
   "cell_type": "code",
   "execution_count": 36,
   "id": "2277b7bb",
   "metadata": {},
   "outputs": [
    {
     "data": {
      "text/plain": [
       "<AxesSubplot:title={'center':'District of origin'}, xlabel='District', ylabel='Count'>"
      ]
     },
     "execution_count": 36,
     "metadata": {},
     "output_type": "execute_result"
    },
    {
     "data": {
      "image/png": "[encoded data removed]",
      "text/plain": [
       "<Figure size 432x288 with 1 Axes>"
      ]
     },
     "metadata": {
      "needs_background": "light"
     },
     "output_type": "display_data"
    }
   ],
   "source": [
    "kg_survey[\"Which district?\"].value_counts().plot(kind=\"bar\", title='District of origin', xlabel=\"District\", ylabel=\"Count\")"
   ]
  },
  {
   "cell_type": "code",
   "execution_count": null,
   "id": "2d8bc736",
   "metadata": {},
   "outputs": [],
   "source": []
  }
 ],
 "metadata": {
  "kernelspec": {
   "display_name": "Python 3 (ipykernel)",
   "language": "python",
   "name": "python3"
  },
  "language_info": {
   "codemirror_mode": {
    "name": "ipython",
    "version": 3
   },
   "file_extension": ".py",
   "mimetype": "text/x-python",
   "name": "python",
   "nbconvert_exporter": "python",
   "pygments_lexer": "ipython3",
   "version": "3.10.4"
  }
 },
 "nbformat": 4,
 "nbformat_minor": 5
}
